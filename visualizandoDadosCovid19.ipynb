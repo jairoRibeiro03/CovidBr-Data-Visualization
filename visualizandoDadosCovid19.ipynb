{
  "nbformat": 4,
  "nbformat_minor": 0,
  "metadata": {
    "colab": {
      "name": "visualizandoDadosCovid19",
      "provenance": [],
      "authorship_tag": "ABX9TyMqw96WtDrdkrTdCPJvmLBq",
      "include_colab_link": true
    },
    "kernelspec": {
      "name": "python3",
      "display_name": "Python 3"
    }
  },
  "cells": [
    {
      "cell_type": "markdown",
      "metadata": {
        "id": "view-in-github",
        "colab_type": "text"
      },
      "source": [
        "<a href=\"https://colab.research.google.com/github/jairoRibeiro03/CovidBr-Data-Visualization/blob/master/visualizandoDadosCovid19.ipynb\" target=\"_parent\"><img src=\"https://colab.research.google.com/assets/colab-badge.svg\" alt=\"Open In Colab\"/></a>"
      ]
    },
    {
      "cell_type": "code",
      "metadata": {
        "id": "HunuzIOuuy2H",
        "colab_type": "code",
        "colab": {}
      },
      "source": [
        "from google.colab import drive\n",
        "drive.mount('/content/drive')"
      ],
      "execution_count": null,
      "outputs": []
    },
    {
      "cell_type": "code",
      "metadata": {
        "id": "qOOS423Z6ksL",
        "colab_type": "code",
        "colab": {}
      },
      "source": [
        "import pandas as pd\n",
        "import warnings\n",
        "warnings.filterwarnings('ignore')\n",
        "# Habilita modo offline\n",
        "from plotly.offline import plot, iplot, init_notebook_mode\n",
        "init_notebook_mode(connected=True)\n",
        "# Definindo o renderizador\n",
        "import plotly.io as pio\n",
        "pio.renderers\n",
        "pio.renderers.default = 'colab'\n",
        "import plotly.express as px\n",
        "import numpy as np"
      ],
      "execution_count": null,
      "outputs": []
    },
    {
      "cell_type": "code",
      "metadata": {
        "id": "7FYarV4D6oti",
        "colab_type": "code",
        "colab": {}
      },
      "source": [
        "file_covid = 'https://raw.githubusercontent.com/wcota/covid19br/master/cases-brazil-total.csv'\n",
        "file_cidades = 'https://raw.githubusercontent.com/wcota/covid19br/master/cases-brazil-cities-time.csv'"
      ],
      "execution_count": null,
      "outputs": []
    },
    {
      "cell_type": "code",
      "metadata": {
        "id": "nOzm9xasBimx",
        "colab_type": "code",
        "colab": {}
      },
      "source": [
        "casos_totais = pd.read_csv(file_covid, sep=',', parse_dates=['date'])\n",
        "cidades = pd.read_csv(file_cidades, sep=',', parse_dates=['date'])"
      ],
      "execution_count": null,
      "outputs": []
    },
    {
      "cell_type": "code",
      "metadata": {
        "id": "750cGEgLCKUW",
        "colab_type": "code",
        "colab": {}
      },
      "source": [
        "casos_totais.head()"
      ],
      "execution_count": null,
      "outputs": []
    },
    {
      "cell_type": "code",
      "metadata": {
        "id": "8cPI6yqeLwk7",
        "colab_type": "code",
        "colab": {}
      },
      "source": [
        "cidades.tail()"
      ],
      "execution_count": null,
      "outputs": []
    },
    {
      "cell_type": "code",
      "metadata": {
        "id": "qdYvcrqNCOj_",
        "colab_type": "code",
        "colab": {}
      },
      "source": [
        "cidades.isnull().sum()"
      ],
      "execution_count": null,
      "outputs": []
    },
    {
      "cell_type": "code",
      "metadata": {
        "id": "S_6fN4TUCdW3",
        "colab_type": "code",
        "colab": {}
      },
      "source": [
        "casos_totais.head()"
      ],
      "execution_count": null,
      "outputs": []
    },
    {
      "cell_type": "code",
      "metadata": {
        "id": "emRcYSYAOIDK",
        "colab_type": "code",
        "colab": {}
      },
      "source": [
        "cidades.info()"
      ],
      "execution_count": null,
      "outputs": []
    },
    {
      "cell_type": "code",
      "metadata": {
        "id": "rLaM2cPGo7eB",
        "colab_type": "code",
        "colab": {}
      },
      "source": [
        "cidades.tail()"
      ],
      "execution_count": null,
      "outputs": []
    },
    {
      "cell_type": "code",
      "metadata": {
        "id": "G-l5R6PipSyM",
        "colab_type": "code",
        "colab": {}
      },
      "source": [
        "cidades.head()"
      ],
      "execution_count": null,
      "outputs": []
    },
    {
      "cell_type": "markdown",
      "metadata": {
        "id": "6TEn8L65IU8u",
        "colab_type": "text"
      },
      "source": [
        "# Criando uma coluna chamada \"Actives\" para representar os casos ativos com a diferença entre os casos totais, mortes e recuperados."
      ]
    },
    {
      "cell_type": "code",
      "metadata": {
        "id": "cjuG2wCRCjvf",
        "colab_type": "code",
        "colab": {}
      },
      "source": [
        "casos_totais['actives'] = casos_totais['totalCasesMS']-casos_totais['recovered']-casos_totais['deathsMS']"
      ],
      "execution_count": null,
      "outputs": []
    },
    {
      "cell_type": "code",
      "metadata": {
        "id": "dg8QhjpqENoV",
        "colab_type": "code",
        "colab": {}
      },
      "source": [
        "casos_totais.isnull().sum()"
      ],
      "execution_count": null,
      "outputs": []
    },
    {
      "cell_type": "markdown",
      "metadata": {
        "id": "qbSUS9Z1IvcQ",
        "colab_type": "text"
      },
      "source": [
        "Substituindo as colunas com *misssing values* (NaN) por 0"
      ]
    },
    {
      "cell_type": "code",
      "metadata": {
        "id": "xAcA2ijhEQHl",
        "colab_type": "code",
        "colab": {}
      },
      "source": [
        "casos_totais[['recovered', 'suspects', 'tests', 'tests_per_100k_inhabitants', 'actives']] = casos_totais[['recovered', 'suspects', 'tests', 'tests_per_100k_inhabitants', 'actives']].fillna(0)"
      ],
      "execution_count": null,
      "outputs": []
    },
    {
      "cell_type": "code",
      "metadata": {
        "id": "HqXOb1ZjINCC",
        "colab_type": "code",
        "colab": {}
      },
      "source": [
        "casos_totais.isnull().sum()"
      ],
      "execution_count": null,
      "outputs": []
    },
    {
      "cell_type": "code",
      "metadata": {
        "id": "72QLmt9AriNr",
        "colab_type": "code",
        "colab": {}
      },
      "source": [
        "cidades.head()"
      ],
      "execution_count": null,
      "outputs": []
    },
    {
      "cell_type": "code",
      "metadata": {
        "id": "rl3136XRIOfv",
        "colab_type": "code",
        "colab": {}
      },
      "source": [
        "casos_totais[['recovered', 'actives']] = casos_totais[['recovered', 'actives']].astype(int)"
      ],
      "execution_count": null,
      "outputs": []
    },
    {
      "cell_type": "code",
      "metadata": {
        "id": "cIg-3IwKJ-LH",
        "colab_type": "code",
        "colab": {
          "base_uri": "https://localhost:8080/",
          "height": 34
        },
        "outputId": "d09a97c0-74d0-4fc2-b1eb-13b2dff2e464"
      },
      "source": [
        "casos_totais.shape"
      ],
      "execution_count": null,
      "outputs": [
        {
          "output_type": "execute_result",
          "data": {
            "text/plain": [
              "(28, 19)"
            ]
          },
          "metadata": {
            "tags": []
          },
          "execution_count": 18
        }
      ]
    },
    {
      "cell_type": "code",
      "metadata": {
        "id": "2QL52SJ-rz_A",
        "colab_type": "code",
        "colab": {
          "base_uri": "https://localhost:8080/",
          "height": 34
        },
        "outputId": "a93c593c-5322-46ff-9bae-b095176c0b10"
      },
      "source": [
        "cidades.shape"
      ],
      "execution_count": null,
      "outputs": [
        {
          "output_type": "execute_result",
          "data": {
            "text/plain": [
              "(110707, 13)"
            ]
          },
          "metadata": {
            "tags": []
          },
          "execution_count": 19
        }
      ]
    },
    {
      "cell_type": "markdown",
      "metadata": {
        "id": "NB4sMB7EKLBJ",
        "colab_type": "text"
      },
      "source": [
        "##Analisando dados temporais"
      ]
    },
    {
      "cell_type": "code",
      "metadata": {
        "id": "TK0OK1_gsf7K",
        "colab_type": "code",
        "colab": {}
      },
      "source": [
        "casos_totais.head()"
      ],
      "execution_count": null,
      "outputs": []
    },
    {
      "cell_type": "code",
      "metadata": {
        "id": "Ycg8AapfKBs7",
        "colab_type": "code",
        "colab": {}
      },
      "source": [
        "casos_totais.date.describe()"
      ],
      "execution_count": null,
      "outputs": []
    },
    {
      "cell_type": "code",
      "metadata": {
        "id": "jN9GLlfwKXaw",
        "colab_type": "code",
        "colab": {}
      },
      "source": [
        "cidades.tail()"
      ],
      "execution_count": null,
      "outputs": []
    },
    {
      "cell_type": "code",
      "metadata": {
        "id": "2JKAnsT5tr0L",
        "colab_type": "code",
        "colab": {}
      },
      "source": [
        "# Cores \n",
        "total = '#1B08C7'\n",
        "recuperados = '#21bf73'\n",
        "mortes = '#ff2e63'\n",
        "ativos = '#fe9801'"
      ],
      "execution_count": null,
      "outputs": []
    },
    {
      "cell_type": "code",
      "metadata": {
        "id": "ePBGvFVVyLw3",
        "colab_type": "code",
        "colab": {}
      },
      "source": [
        "# Agrupando casos recuperados, mortes e ativos por data\n",
        "temp = casos_totais.groupby('state')['totalCases', 'recovered', 'deaths', 'actives'].sum().reset_index()"
      ],
      "execution_count": null,
      "outputs": []
    },
    {
      "cell_type": "code",
      "metadata": {
        "id": "co1n7_Rg2JMA",
        "colab_type": "code",
        "colab": {}
      },
      "source": [
        "# Remodela o df com variável e valor para ter a quantidade de recuperados, mortes e ativos.\n",
        "temp = temp.melt(id_vars='state', value_vars=['totalCases', 'recovered', 'deaths', 'actives'],\n",
        "                  var_name='Case', value_name='Count')"
      ],
      "execution_count": null,
      "outputs": []
    },
    {
      "cell_type": "code",
      "metadata": {
        "id": "AjXcMFsK_dVm",
        "colab_type": "code",
        "colab": {}
      },
      "source": [
        "temp.head()"
      ],
      "execution_count": null,
      "outputs": []
    },
    {
      "cell_type": "code",
      "metadata": {
        "id": "MwU4HPD-BXya",
        "colab_type": "code",
        "colab": {}
      },
      "source": [
        "fig = px.area(temp,\n",
        "              x='state',\n",
        "              y='Count',\n",
        "              color='Case',\n",
        "              height=600,\n",
        "              title='Casos ao longo do tempo por estados do Brasil',\n",
        "              color_discrete_sequence = [total, recuperados, mortes, ativos])\n",
        "fig.update_layout(xaxis_rangeslider_visible=True)\n",
        "fig.show()"
      ],
      "execution_count": null,
      "outputs": []
    },
    {
      "cell_type": "markdown",
      "metadata": {
        "id": "XUlsWotzwwZ4",
        "colab_type": "text"
      },
      "source": [
        "Agrupando dados por data e cidade"
      ]
    },
    {
      "cell_type": "code",
      "metadata": {
        "id": "vbr7CGbAxH4F",
        "colab_type": "code",
        "colab": {}
      },
      "source": [
        "cidades.info()"
      ],
      "execution_count": null,
      "outputs": []
    },
    {
      "cell_type": "code",
      "metadata": {
        "id": "zV_AD_7iw3Fu",
        "colab_type": "code",
        "colab": {}
      },
      "source": [
        "agrupado = cidades.groupby(['date', 'state', 'city'])['totalCases', 'newCases', 'deaths', 'newDeaths' ].sum().reset_index()"
      ],
      "execution_count": null,
      "outputs": []
    },
    {
      "cell_type": "code",
      "metadata": {
        "id": "w5_yTYPbyByP",
        "colab_type": "code",
        "colab": {}
      },
      "source": [
        "agrupado.tail()"
      ],
      "execution_count": null,
      "outputs": []
    },
    {
      "cell_type": "code",
      "metadata": {
        "id": "1uQjPugtyTR9",
        "colab_type": "code",
        "colab": {}
      },
      "source": [
        "agrupado.sort_values(by='totalCases', ascending=False)"
      ],
      "execution_count": null,
      "outputs": []
    },
    {
      "cell_type": "code",
      "metadata": {
        "id": "-DsdJxVYjuf0",
        "colab_type": "code",
        "colab": {}
      },
      "source": [
        "fig = px.choropleth(agrupado, \n",
        "                    locations='city',\n",
        "                    locationmode='ISO-3',\n",
        "                    color= np.log(agrupado['totalCases']),\n",
        "                    hover_name='city', \n",
        "                    hover_data=['totalCases', 'deaths'],\n",
        "                    animation_frame=agrupado['date'].dt.strftime('%d-%m-%y'),\n",
        "                    title='Casos ao longo do tempo',\n",
        "                    color_continuous_scale=px.colors.sequential.Magenta)\n",
        "fig.update_layout(autosize=False, width=1200, height=800)\n",
        "fig.show()"
      ],
      "execution_count": null,
      "outputs": []
    },
    {
      "cell_type": "code",
      "metadata": {
        "id": "sf2kWcoI5rKs",
        "colab_type": "code",
        "colab": {}
      },
      "source": [
        "!pip install plotly==4.5.2"
      ],
      "execution_count": null,
      "outputs": []
    },
    {
      "cell_type": "code",
      "metadata": {
        "id": "Bo2G7Ce07O3o",
        "colab_type": "code",
        "colab": {}
      },
      "source": [
        "import plotly.figure_factory as ff\n",
        "from plotly.subplots import make_subplots\n",
        "import plotly.express as px"
      ],
      "execution_count": null,
      "outputs": []
    },
    {
      "cell_type": "code",
      "metadata": {
        "id": "fk4_ANaz73k5",
        "colab_type": "code",
        "colab": {}
      },
      "source": [
        "completo = cidades[cidades['date']==max(cidades['date'])]"
      ],
      "execution_count": null,
      "outputs": []
    },
    {
      "cell_type": "code",
      "metadata": {
        "id": "9oj-yDw-9hJO",
        "colab_type": "code",
        "colab": {}
      },
      "source": [
        "fig = px.line(agrupado,\n",
        "              x='date',\n",
        "              y='deaths',\n",
        "              color='state',\n",
        "              height=600,\n",
        "              title='Mortes confimadas',\n",
        "              color_discrete_sequence = px.colors.qualitative.Dark2)\n",
        "fig.show() "
      ],
      "execution_count": null,
      "outputs": []
    }
  ]
}